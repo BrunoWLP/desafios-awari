{
 "cells": [
  {
   "cell_type": "code",
   "execution_count": 6,
   "source": [
    "# Dados uma sequência com n números inteiros, determinar quantos números da sequência são pares e quantos são ímpares.\r\n",
    "# Por exemplo, para a sequência: 6   2   7  -5   8  -4 a sua função deve retornar o número 4 para o número de pares e 2 para o de ímpares.\r\n",
    "# A saída deve ser um tupla contendo primeiramente o número de pares e em seguida o número de ímpares.\r\n",
    "# Para o exemplo anterior, a saída seria (4, 2)."
   ],
   "outputs": [],
   "metadata": {}
  },
  {
   "cell_type": "code",
   "execution_count": 20,
   "source": [
    "def contar_pares_impares(* entrada):\r\n",
    "    count_par = count_impar = 0\r\n",
    "    for n in entrada:\r\n",
    "        if n % 2 == 0:\r\n",
    "            count_par += 1\r\n",
    "        elif n % 2 == 1:\r\n",
    "            count_impar += 1\r\n",
    "    return (count_par, count_impar)\r\n",
    "\r\n"
   ],
   "outputs": [],
   "metadata": {}
  },
  {
   "cell_type": "code",
   "execution_count": 23,
   "source": [
    "contar_pares_impares(6, 2, 7, -5, 8, -4)"
   ],
   "outputs": [
    {
     "output_type": "execute_result",
     "data": {
      "text/plain": [
       "(4, 2)"
      ]
     },
     "metadata": {},
     "execution_count": 23
    }
   ],
   "metadata": {}
  },
  {
   "cell_type": "code",
   "execution_count": 24,
   "source": [
    "contar_pares_impares(1, 2, 3, 4, 5, 6, 7, 8, 9, 10)"
   ],
   "outputs": [
    {
     "output_type": "execute_result",
     "data": {
      "text/plain": [
       "(5, 5)"
      ]
     },
     "metadata": {},
     "execution_count": 24
    }
   ],
   "metadata": {}
  }
 ],
 "metadata": {
  "orig_nbformat": 4,
  "language_info": {
   "name": "python",
   "version": "3.8.11",
   "mimetype": "text/x-python",
   "codemirror_mode": {
    "name": "ipython",
    "version": 3
   },
   "pygments_lexer": "ipython3",
   "nbconvert_exporter": "python",
   "file_extension": ".py"
  },
  "kernelspec": {
   "name": "python3",
   "display_name": "Python 3.8.11 64-bit ('data_science': conda)"
  },
  "interpreter": {
   "hash": "e1669625acc3b5dce67bba4efcb8c935ce0850785629c0f390323b67dd6918f6"
  }
 },
 "nbformat": 4,
 "nbformat_minor": 2
}