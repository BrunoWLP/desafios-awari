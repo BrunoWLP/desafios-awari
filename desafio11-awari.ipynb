{
 "cells": [
  {
   "cell_type": "markdown",
   "metadata": {},
   "source": [
    "Dados uma sequência com n números inteiros, determinar quantos números da sequência são pares e quantos são ímpares.\n",
    "\n",
    "Por exemplo, para a sequência: 6   2   7  -5   8  -4 a sua função deve retornar o número 4 para o número de pares e 2 para o de ímpares.<br>\n",
    "A saída deve ser um tupla contendo primeiramente o número de pares e em seguida o número de ímpares.<br>\n",
    "Para o exemplo anterior, a saída seria (4, 2)."
   ]
  },
  {
   "cell_type": "code",
   "execution_count": 1,
   "metadata": {},
   "outputs": [],
   "source": [
    "def contar_pares_impares(*entrada):\n",
    "    count_par = 0\n",
    "    count_impar = 0\n",
    "\n",
    "    for n in entrada:\n",
    "        if n % 2 == 0:\n",
    "            count_par += 1\n",
    "        elif n % 2 == 1:\n",
    "            count_impar += 1\n",
    "            \n",
    "    return (count_par, count_impar)\n",
    "\n"
   ]
  },
  {
   "cell_type": "code",
   "execution_count": 2,
   "metadata": {},
   "outputs": [
    {
     "data": {
      "text/plain": [
       "(4, 2)"
      ]
     },
     "execution_count": 2,
     "metadata": {},
     "output_type": "execute_result"
    }
   ],
   "source": [
    "contar_pares_impares(6, 2, 7, -5, 8, -4)"
   ]
  },
  {
   "cell_type": "code",
   "execution_count": 3,
   "metadata": {},
   "outputs": [
    {
     "data": {
      "text/plain": [
       "(5, 5)"
      ]
     },
     "execution_count": 3,
     "metadata": {},
     "output_type": "execute_result"
    }
   ],
   "source": [
    "contar_pares_impares(1, 2, 3, 4, 5, 6, 7, 8, 9, 10)"
   ]
  }
 ],
 "metadata": {
  "interpreter": {
   "hash": "e1669625acc3b5dce67bba4efcb8c935ce0850785629c0f390323b67dd6918f6"
  },
  "kernelspec": {
   "display_name": "Python 3.8.11 64-bit ('data_science': conda)",
   "name": "python3"
  },
  "language_info": {
   "codemirror_mode": {
    "name": "ipython",
    "version": 3
   },
   "file_extension": ".py",
   "mimetype": "text/x-python",
   "name": "python",
   "nbconvert_exporter": "python",
   "pygments_lexer": "ipython3",
   "version": "3.8.11"
  },
  "orig_nbformat": 4
 },
 "nbformat": 4,
 "nbformat_minor": 2
}
