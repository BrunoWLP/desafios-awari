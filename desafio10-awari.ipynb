{
 "cells": [
  {
   "cell_type": "markdown",
   "metadata": {},
   "source": [
    "Desafio 10\n",
    "Dada uma lista, divida-a em 3 partes iguais e reverta a ordem de cada lista.\n",
    "\n",
    "Exemplo:\n",
    "\n",
    "Entrada: \\ sampleList = [11, 45, 8, 23, 14, 12, 78, 45, 89]\n",
    "\n",
    "Saída: \\ Parte 1 [8, 45, 11] \\ Parte 2 [12, 14, 23] \\ Parte 3 [89, 45, 78]"
   ]
  },
  {
   "cell_type": "code",
   "execution_count": null,
   "metadata": {},
   "outputs": [],
   "source": [
    "sampleList = [11, 45, 8, 23, 14, 12, 78, 45, 89]"
   ]
  },
  {
   "cell_type": "code",
   "execution_count": null,
   "metadata": {},
   "outputs": [],
   "source": [
    "l1 = []\n",
    "l2 = []\n",
    "l3 = []\n",
    "qtde = len(sampleList) / 3\n",
    "if qtde.is_integer():\n",
    "  for elem in sampleList:\n",
    "      if len(l1) < qtde:\n",
    "          l1.append(elem)\n",
    "          parte_1 = reversed(l1)\n",
    "      elif len(l2) < qtde:\n",
    "          l2.append(elem)\n",
    "          parte_2 = reversed(l2)\n",
    "      else:\n",
    "          if len(l3) < qtde:\n",
    "              l3.append(elem)\n",
    "              parte_3 = reversed(l3)\n",
    "  print(f'Parte 1: {list(parte_1)}'\n",
    "        f'\\nParte 2: {list(parte_2)}'\n",
    "        f'\\nParte 3: {list(parte_3)}')\n",
    "else:\n",
    "  print('A respectiva lista não pode ser dividida em 3 partes iguais!')"
   ]
  }
 ],
 "metadata": {
  "language_info": {
   "name": "python"
  },
  "orig_nbformat": 4
 },
 "nbformat": 4,
 "nbformat_minor": 2
}
