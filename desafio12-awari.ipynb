{
 "cells": [
  {
   "cell_type": "markdown",
   "metadata": {},
   "source": [
    "Escreva uma função em Python para verificar a validade de uma senha.\n",
    "\n",
    "A senha deve ter:\n",
    "\n",
    "Pelo menos 1 letra entre [a-z] e 1 letra entre [A-Z].\n",
    "Pelo menos 1 número entre [0-9].\n",
    "Pelo menos 1 caractere de [$ # @].\n",
    "Comprimento mínimo de 6 caracteres.\n",
    "Comprimento máximo de 16 caracteres.\n",
    "Entradas: \"12345678\", \"J3sus0\", \"#Te5t300\", \"J*90j12374\", \"Michheeul\", \"Monk3y6\"\n",
    "\n",
    "A saída deve ser a senha e um texto indicando se a senha é válida ou inválida:\n",
    "\n",
    "\"1234\" - Senha inválida\n",
    "\"Qw#1234\" - Senha válida"
   ]
  },
  {
   "cell_type": "code",
   "execution_count": 5,
   "metadata": {},
   "outputs": [],
   "source": [
    "senhas = ['12345678', 'J3sus0', '#Te5t300', 'J*90j12374', 'Michheeul', 'Monk3y6', '*FiVe', '*DezesseisCaracteres']"
   ]
  },
  {
   "cell_type": "code",
   "execution_count": 7,
   "metadata": {},
   "outputs": [
    {
     "name": "stdout",
     "output_type": "stream",
     "text": [
      "<12345678> Senha inválida\n",
      "<J3sus0> Senha inválida\n",
      "<#Te5t300> Senha válida\n",
      "<J*90j12374> Senha inválida\n",
      "<Michheeul> Senha inválida\n",
      "<Monk3y6> Senha inválida\n",
      "<*FiVe> Senha inválida\n",
      "<*DezesseisCaracteres> Senha inválida\n"
     ]
    }
   ],
   "source": [
    "import re\n",
    "\n",
    "def pw_checker(password):\n",
    "    regex = re.compile(r'^(?=.*[a-z])(?=.*[A-Z])(?=.*[0-9])(?=.*[$#@]).{6,16}$',\n",
    "                       flags=re.M)\n",
    "    resultado = re.findall(regex, password)\n",
    "    if resultado:\n",
    "        print(f'<{password}> Senha válida')\n",
    "    else:\n",
    "        print(f'<{password}> Senha inválida')\n",
    "\n",
    "\n",
    "for senha in senhas:\n",
    "    pw_checker(senha)"
   ]
  },
  {
   "cell_type": "code",
   "execution_count": null,
   "metadata": {},
   "outputs": [],
   "source": []
  }
 ],
 "metadata": {
  "kernelspec": {
   "display_name": "Python 3.9.13 ('data_science')",
   "language": "python",
   "name": "python3"
  },
  "language_info": {
   "codemirror_mode": {
    "name": "ipython",
    "version": 3
   },
   "file_extension": ".py",
   "mimetype": "text/x-python",
   "name": "python",
   "nbconvert_exporter": "python",
   "pygments_lexer": "ipython3",
   "version": "3.9.13"
  },
  "orig_nbformat": 4,
  "vscode": {
   "interpreter": {
    "hash": "0d96ed1097888cacff3de675264c6bbebe4df8f0ded48e92973dd68c4301162d"
   }
  }
 },
 "nbformat": 4,
 "nbformat_minor": 2
}
