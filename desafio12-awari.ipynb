{
 "cells": [
  {
   "cell_type": "markdown",
   "metadata": {},
   "source": [
    "Escreva uma função em Python para verificar a validade de uma senha.\n",
    "\n",
    "A senha deve ter:\n",
    "\n",
    "Pelo menos 1 letra entre [a-z] e 1 letra entre [A-Z].\n",
    "Pelo menos 1 número entre [0-9].\n",
    "Pelo menos 1 caractere de [$ # @].\n",
    "Comprimento mínimo de 6 caracteres.\n",
    "Comprimento máximo de 16 caracteres.\n",
    "Entradas: \"12345678\", \"J3sus0\", \"#Te5t300\", \"J*90j12374\", \"Michheeul\", \"Monk3y6\"\n",
    "\n",
    "A saída deve ser a senha e um texto indicando se a senha é válida ou inválida:\n",
    "\n",
    "\"1234\" - Senha inválida\n",
    "\"Qw#1234\" - Senha válida"
   ]
  },
  {
   "cell_type": "code",
   "execution_count": null,
   "metadata": {},
   "outputs": [],
   "source": []
  }
 ],
 "metadata": {
  "language_info": {
   "name": "python"
  },
  "orig_nbformat": 4
 },
 "nbformat": 4,
 "nbformat_minor": 2
}
