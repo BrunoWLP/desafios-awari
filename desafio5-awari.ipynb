{
 "cells": [
  {
   "cell_type": "markdown",
   "metadata": {},
   "source": [
    "Você trabalha em uma loja de sapatos e deve contatar uma série de clientes. Seus números de telefone estão na lista abaixo.<br>\n",
    "No entanto, é possível notar números duplicados na lista dada.\n",
    "\n",
    "Você seria capaz de remover estes duplicados para evitar que clientes sejam contatados mais de uma vez?"
   ]
  },
  {
   "cell_type": "code",
   "execution_count": 18,
   "metadata": {},
   "outputs": [],
   "source": [
    "numeros_telefone = [\n",
    "'(765) 368-1506',\n",
    "'(285) 608-2448',\n",
    "'(255) 826-9050',\n",
    "'(554) 994-1517',\n",
    "'(285) 608-2448',\n",
    "'(596) 336-5508',\n",
    "'(511) 821-7870',\n",
    "'(410) 665-4447',\n",
    "'(821) 642-8987',\n",
    "'(285) 608-2448',\n",
    "'(311) 799-3883',\n",
    "'(935) 875-2054',\n",
    "'(464) 788-2397',\n",
    "'(765) 368-1506',\n",
    "'(650) 684-1437',\n",
    "'(812) 816-0881',\n",
    "'(285) 608-2448',\n",
    "'(885) 407-1719',\n",
    "'(943) 769-1061',\n",
    "'(596) 336-5508',\n",
    "'(765) 368-1506',\n",
    "'(255) 826-9050',\n",
    "]"
   ]
  },
  {
   "cell_type": "code",
   "execution_count": 20,
   "metadata": {},
   "outputs": [
    {
     "data": {
      "text/plain": [
       "['(765) 368-1506',\n",
       " '(285) 608-2448',\n",
       " '(255) 826-9050',\n",
       " '(554) 994-1517',\n",
       " '(596) 336-5508',\n",
       " '(511) 821-7870',\n",
       " '(410) 665-4447',\n",
       " '(821) 642-8987',\n",
       " '(311) 799-3883',\n",
       " '(935) 875-2054',\n",
       " '(464) 788-2397',\n",
       " '(650) 684-1437',\n",
       " '(812) 816-0881',\n",
       " '(885) 407-1719',\n",
       " '(943) 769-1061']"
      ]
     },
     "execution_count": 20,
     "metadata": {},
     "output_type": "execute_result"
    }
   ],
   "source": [
    "numeros_telefone_unicos = list()\n",
    "for n in numeros_telefone:\n",
    "    if n not in numeros_telefone_unicos:\n",
    "        numeros_telefone_unicos.append(n)\n",
    "\n",
    "# Ou com list comprehension\n",
    "# numeros_telefone_unicos = [n for n in numeros_telefone if n not in numeros_telefone_unicos]\n",
    "\n",
    "numeros_telefone_unicos"
   ]
  }
 ],
 "metadata": {
  "interpreter": {
   "hash": "e1669625acc3b5dce67bba4efcb8c935ce0850785629c0f390323b67dd6918f6"
  },
  "kernelspec": {
   "display_name": "Python 3.8.11 64-bit ('data_science': conda)",
   "name": "python3"
  },
  "language_info": {
   "codemirror_mode": {
    "name": "ipython",
    "version": 3
   },
   "file_extension": ".py",
   "mimetype": "text/x-python",
   "name": "python",
   "nbconvert_exporter": "python",
   "pygments_lexer": "ipython3",
   "version": "3.8.11"
  },
  "orig_nbformat": 4
 },
 "nbformat": 4,
 "nbformat_minor": 2
}
