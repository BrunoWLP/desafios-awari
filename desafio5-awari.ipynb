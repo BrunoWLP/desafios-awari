{
 "cells": [
  {
   "cell_type": "code",
   "execution_count": 17,
   "source": [
    "# Você trabalha em uma loja de sapatos e deve contatar uma série de clientes. Seus números de telefone estão na lista abaixo. \r\n",
    "# No entanto, é possível notar números duplicados na lista dada.\r\n",
    "# Você seria capaz de remover estes duplicados para evitar que clientes sejam contatados mais de uma vez?"
   ],
   "outputs": [],
   "metadata": {}
  },
  {
   "cell_type": "code",
   "execution_count": 18,
   "source": [
    "numeros_telefone = [\r\n",
    "'(765) 368-1506',\r\n",
    "'(285) 608-2448',\r\n",
    "'(255) 826-9050',\r\n",
    "'(554) 994-1517',\r\n",
    "'(285) 608-2448',\r\n",
    "'(596) 336-5508',\r\n",
    "'(511) 821-7870',\r\n",
    "'(410) 665-4447',\r\n",
    "'(821) 642-8987',\r\n",
    "'(285) 608-2448',\r\n",
    "'(311) 799-3883',\r\n",
    "'(935) 875-2054',\r\n",
    "'(464) 788-2397',\r\n",
    "'(765) 368-1506',\r\n",
    "'(650) 684-1437',\r\n",
    "'(812) 816-0881',\r\n",
    "'(285) 608-2448',\r\n",
    "'(885) 407-1719',\r\n",
    "'(943) 769-1061',\r\n",
    "'(596) 336-5508',\r\n",
    "'(765) 368-1506',\r\n",
    "'(255) 826-9050',\r\n",
    "]"
   ],
   "outputs": [],
   "metadata": {}
  },
  {
   "cell_type": "code",
   "execution_count": 20,
   "source": [
    "numeros_telefone_unicos = list()\r\n",
    "for n in numeros_telefone:\r\n",
    "    if n not in numeros_telefone_unicos:\r\n",
    "        numeros_telefone_unicos.append(n)\r\n",
    "numeros_telefone_unicos"
   ],
   "outputs": [
    {
     "output_type": "execute_result",
     "data": {
      "text/plain": [
       "['(765) 368-1506',\n",
       " '(285) 608-2448',\n",
       " '(255) 826-9050',\n",
       " '(554) 994-1517',\n",
       " '(596) 336-5508',\n",
       " '(511) 821-7870',\n",
       " '(410) 665-4447',\n",
       " '(821) 642-8987',\n",
       " '(311) 799-3883',\n",
       " '(935) 875-2054',\n",
       " '(464) 788-2397',\n",
       " '(650) 684-1437',\n",
       " '(812) 816-0881',\n",
       " '(885) 407-1719',\n",
       " '(943) 769-1061']"
      ]
     },
     "metadata": {},
     "execution_count": 20
    }
   ],
   "metadata": {}
  }
 ],
 "metadata": {
  "orig_nbformat": 4,
  "language_info": {
   "name": "python",
   "version": "3.8.11",
   "mimetype": "text/x-python",
   "codemirror_mode": {
    "name": "ipython",
    "version": 3
   },
   "pygments_lexer": "ipython3",
   "nbconvert_exporter": "python",
   "file_extension": ".py"
  },
  "kernelspec": {
   "name": "python3",
   "display_name": "Python 3.8.11 64-bit ('data_science': conda)"
  },
  "interpreter": {
   "hash": "e1669625acc3b5dce67bba4efcb8c935ce0850785629c0f390323b67dd6918f6"
  }
 },
 "nbformat": 4,
 "nbformat_minor": 2
}