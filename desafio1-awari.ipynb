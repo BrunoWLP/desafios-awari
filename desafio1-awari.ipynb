{
 "cells": [
  {
   "cell_type": "markdown",
   "metadata": {},
   "source": [
    "Escreva um programa em Python para contabilizar a quantidade de ocorrências de cada palavra."
   ]
  },
  {
   "cell_type": "code",
   "execution_count": 22,
   "metadata": {},
   "outputs": [],
   "source": [
    "palavras = [\n",
    "   'red', 'green', 'black', 'pink', 'black', 'white', 'black', 'eyes',\n",
    "   'white', 'black', 'orange', 'pink', 'pink', 'red', 'red', 'white', 'orange',\n",
    "   'white', \"black\", 'pink', 'green', 'green', 'pink', 'green', 'pink',\n",
    "   'white', 'orange', \"orange\", 'red'\n",
    "]"
   ]
  },
  {
   "cell_type": "code",
   "execution_count": 23,
   "metadata": {},
   "outputs": [
    {
     "name": "stdout",
     "output_type": "stream",
     "text": [
      "Ocorrência da palavra red: 4\n",
      "Ocorrência da palavra green: 4\n",
      "Ocorrência da palavra black: 5\n",
      "Ocorrência da palavra pink: 6\n",
      "Ocorrência da palavra white: 5\n",
      "Ocorrência da palavra eyes: 1\n",
      "Ocorrência da palavra orange: 4\n"
     ]
    }
   ],
   "source": [
    "# lista [registro] conterá as cores contadas\n",
    "registro = []\n",
    "for c in palavras:\n",
    "    if c not in registro:\n",
    "        print(f\"Ocorrência da palavra '{c}': {palavras.count(c)}\")\n",
    "        registro.append(c)\n",
    "        "
   ]
  }
 ],
 "metadata": {
  "interpreter": {
   "hash": "e1669625acc3b5dce67bba4efcb8c935ce0850785629c0f390323b67dd6918f6"
  },
  "kernelspec": {
   "display_name": "Python 3.8.11 64-bit ('data_science': conda)",
   "name": "python3"
  },
  "language_info": {
   "codemirror_mode": {
    "name": "ipython",
    "version": 3
   },
   "file_extension": ".py",
   "mimetype": "text/x-python",
   "name": "python",
   "nbconvert_exporter": "python",
   "pygments_lexer": "ipython3",
   "version": "3.8.11"
  },
  "orig_nbformat": 4
 },
 "nbformat": 4,
 "nbformat_minor": 2
}
