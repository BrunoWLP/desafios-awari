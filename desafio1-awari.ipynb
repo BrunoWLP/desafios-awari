{
 "cells": [
  {
   "cell_type": "code",
   "execution_count": 21,
   "source": [
    "# Escreva um programa em Python para contabilizar a quantidade de ocorrências de cada palavra."
   ],
   "outputs": [],
   "metadata": {}
  },
  {
   "cell_type": "code",
   "execution_count": 22,
   "source": [
    "palavras = [\r\n",
    "   'red', 'green', 'black', 'pink', 'black', 'white', 'black', 'eyes',\r\n",
    "   'white', 'black', 'orange', 'pink', 'pink', 'red', 'red', 'white', 'orange',\r\n",
    "   'white', \"black\", 'pink', 'green', 'green', 'pink', 'green', 'pink',\r\n",
    "   'white', 'orange', \"orange\", 'red'\r\n",
    "]"
   ],
   "outputs": [],
   "metadata": {}
  },
  {
   "cell_type": "code",
   "execution_count": 23,
   "source": [
    "# lista [registro] conterá as cores contadas\r\n",
    "registro = []\r\n",
    "for c in palavras:\r\n",
    "    if c not in registro:\r\n",
    "        print(f\"Ocorrência da palavra '{c}': {palavras.count(c)}\")\r\n",
    "        registro.append(c)\r\n",
    "        "
   ],
   "outputs": [
    {
     "output_type": "stream",
     "name": "stdout",
     "text": [
      "Ocorrência da palavra red: 4\n",
      "Ocorrência da palavra green: 4\n",
      "Ocorrência da palavra black: 5\n",
      "Ocorrência da palavra pink: 6\n",
      "Ocorrência da palavra white: 5\n",
      "Ocorrência da palavra eyes: 1\n",
      "Ocorrência da palavra orange: 4\n"
     ]
    }
   ],
   "metadata": {}
  }
 ],
 "metadata": {
  "orig_nbformat": 4,
  "language_info": {
   "name": "python",
   "version": "3.8.11",
   "mimetype": "text/x-python",
   "codemirror_mode": {
    "name": "ipython",
    "version": 3
   },
   "pygments_lexer": "ipython3",
   "nbconvert_exporter": "python",
   "file_extension": ".py"
  },
  "kernelspec": {
   "name": "python3",
   "display_name": "Python 3.8.11 64-bit ('data_science': conda)"
  },
  "interpreter": {
   "hash": "e1669625acc3b5dce67bba4efcb8c935ce0850785629c0f390323b67dd6918f6"
  }
 },
 "nbformat": 4,
 "nbformat_minor": 2
}