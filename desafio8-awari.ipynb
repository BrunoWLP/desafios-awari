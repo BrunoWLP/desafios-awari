{
 "cells": [
  {
   "cell_type": "markdown",
   "metadata": {},
   "source": [
    "Escreva um script Python para encontrar as 10 palavras mais longas em um arquivo de texto. O arquivo .txt está localizado na mesma pasta do projeto (texto.txt)."
   ]
  },
  {
   "cell_type": "code",
   "execution_count": 2,
   "metadata": {},
   "outputs": [],
   "source": [
    "txt = \"What is Python language? Python is a widely used high-level, general-purpose, interpreted, dynamic programming language. Its design philosophy emphasizes code readability, and its syntax allows programmers to express concepts in fewer lines of code than possible in languages such as C++ or Java. Python supports multiple programming paradigms, including object-oriented, imperative and functional programming or procedural styles. It features a dynamic type system and automatic memory management and has a large and comprehensive standard library. The best way we learn anything is by practice and exercise questions. We have started this section for those (beginner to intermediate) who are familiar with Python.\""
   ]
  },
  {
   "cell_type": "code",
   "execution_count": 3,
   "metadata": {},
   "outputs": [],
   "source": [
    "# Solução para remover caracteres indesejados\n",
    "remove_char = [\",\", \".\", \"!\", \"?\", \"(\", \")\"]\n",
    "for i in remove_char:\n",
    "    txt = txt.replace(i, \"\")\n"
   ]
  },
  {
   "cell_type": "code",
   "execution_count": 4,
   "metadata": {},
   "outputs": [
    {
     "name": "stdout",
     "output_type": "stream",
     "text": [
      "['What', 'is', 'Python', 'language', 'Python', 'is', 'a', 'widely', 'used', 'high-level', 'general-purpose', 'interpreted', 'dynamic', 'programming', 'language', 'Its', 'design', 'philosophy', 'emphasizes', 'code', 'readability', 'and', 'its', 'syntax', 'allows', 'programmers', 'to', 'express', 'concepts', 'in', 'fewer', 'lines', 'of', 'code', 'than', 'possible', 'in', 'languages', 'such', 'as', 'C++', 'or', 'Java', 'Python', 'supports', 'multiple', 'programming', 'paradigms', 'including', 'object-oriented', 'imperative', 'and', 'functional', 'programming', 'or', 'procedural', 'styles', 'It', 'features', 'a', 'dynamic', 'type', 'system', 'and', 'automatic', 'memory', 'management', 'and', 'has', 'a', 'large', 'and', 'comprehensive', 'standard', 'library', 'The', 'best', 'way', 'we', 'learn', 'anything', 'is', 'by', 'practice', 'and', 'exercise', 'questions', 'We', 'have', 'started', 'this', 'section', 'for', 'those', 'beginner', 'to', 'intermediate', 'who', 'are', 'familiar', 'with', 'Python']\n"
     ]
    }
   ],
   "source": [
    "# Transformação do texto em elementos de lista\n",
    "lst = txt.split()\n",
    "print(lst)"
   ]
  },
  {
   "cell_type": "code",
   "execution_count": null,
   "metadata": {},
   "outputs": [],
   "source": [
    "# Os códigos dos dois blocos acima poderiam ter sido escrito com list comprehension\n",
    "\n",
    "# lst = [txt.replace(i, \"\").split() for i in remove_char]"
   ]
  },
  {
   "cell_type": "code",
   "execution_count": 5,
   "metadata": {},
   "outputs": [
    {
     "name": "stdout",
     "output_type": "stream",
     "text": [
      "[[4, 'What'], [2, 'is'], [6, 'Python'], [8, 'language'], [6, 'Python'], [2, 'is'], [1, 'a'], [6, 'widely'], [4, 'used'], [10, 'high-level'], [15, 'general-purpose'], [11, 'interpreted'], [7, 'dynamic'], [11, 'programming'], [8, 'language'], [3, 'Its'], [6, 'design'], [10, 'philosophy'], [10, 'emphasizes'], [4, 'code'], [11, 'readability'], [3, 'and'], [3, 'its'], [6, 'syntax'], [6, 'allows'], [11, 'programmers'], [2, 'to'], [7, 'express'], [8, 'concepts'], [2, 'in'], [5, 'fewer'], [5, 'lines'], [2, 'of'], [4, 'code'], [4, 'than'], [8, 'possible'], [2, 'in'], [9, 'languages'], [4, 'such'], [2, 'as'], [3, 'C++'], [2, 'or'], [4, 'Java'], [6, 'Python'], [8, 'supports'], [8, 'multiple'], [11, 'programming'], [9, 'paradigms'], [9, 'including'], [15, 'object-oriented'], [10, 'imperative'], [3, 'and'], [10, 'functional'], [11, 'programming'], [2, 'or'], [10, 'procedural'], [6, 'styles'], [2, 'It'], [8, 'features'], [1, 'a'], [7, 'dynamic'], [4, 'type'], [6, 'system'], [3, 'and'], [9, 'automatic'], [6, 'memory'], [10, 'management'], [3, 'and'], [3, 'has'], [1, 'a'], [5, 'large'], [3, 'and'], [13, 'comprehensive'], [8, 'standard'], [7, 'library'], [3, 'The'], [4, 'best'], [3, 'way'], [2, 'we'], [5, 'learn'], [8, 'anything'], [2, 'is'], [2, 'by'], [8, 'practice'], [3, 'and'], [8, 'exercise'], [9, 'questions'], [2, 'We'], [4, 'have'], [7, 'started'], [4, 'this'], [7, 'section'], [3, 'for'], [5, 'those'], [8, 'beginner'], [2, 'to'], [12, 'intermediate'], [3, 'who'], [3, 'are'], [8, 'familiar'], [4, 'with'], [6, 'Python']]\n"
     ]
    }
   ],
   "source": [
    "# Criação de uma lista cujo os itens são listas que contém: [número de caracteres, string]\n",
    "maiores_palavras = list()\n",
    "for i, p in enumerate(lst):\n",
    "    maiores_palavras.append([len(p), p])\n",
    "\n",
    "print(maiores_palavras)\n",
    "\n",
    "# Ou utilizando list comprehension\n",
    "# maiores_palavras = [[len(p), p] for i, p in enumerate(lst)]"
   ]
  },
  {
   "cell_type": "code",
   "execution_count": 6,
   "metadata": {},
   "outputs": [
    {
     "data": {
      "text/plain": [
       "[[10, 'philosophy'],\n",
       " [10, 'procedural'],\n",
       " [11, 'interpreted'],\n",
       " [11, 'programmers'],\n",
       " [11, 'programming'],\n",
       " [11, 'readability'],\n",
       " [12, 'intermediate'],\n",
       " [13, 'comprehensive'],\n",
       " [15, 'general-purpose'],\n",
       " [15, 'object-oriented']]"
      ]
     },
     "execution_count": 6,
     "metadata": {},
     "output_type": "execute_result"
    }
   ],
   "source": [
    "# Organizar a lista por ordem crescente de caracteres, seguido de remoção de itens repetidos\n",
    "maiores_palavras.sort()\n",
    "\n",
    "for e in maiores_palavras:\n",
    "    if maiores_palavras.count(e) != 1:\n",
    "        maiores_palavras.remove(e)\n",
    "    else:\n",
    "        continue\n",
    "    \n",
    "# Mostrar apenas as 10 últimas entradas\n",
    "maiores_palavras[-10::]"
   ]
  }
 ],
 "metadata": {
  "interpreter": {
   "hash": "e1669625acc3b5dce67bba4efcb8c935ce0850785629c0f390323b67dd6918f6"
  },
  "kernelspec": {
   "display_name": "Python 3.8.11 64-bit ('data_science': conda)",
   "name": "python3"
  },
  "language_info": {
   "codemirror_mode": {
    "name": "ipython",
    "version": 3
   },
   "file_extension": ".py",
   "mimetype": "text/x-python",
   "name": "python",
   "nbconvert_exporter": "python",
   "pygments_lexer": "ipython3",
   "version": "3.8.11"
  },
  "orig_nbformat": 4
 },
 "nbformat": 4,
 "nbformat_minor": 2
}
