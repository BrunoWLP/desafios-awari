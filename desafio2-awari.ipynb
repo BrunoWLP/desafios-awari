{
 "cells": [
  {
   "cell_type": "code",
   "execution_count": 2,
   "source": [
    "def convert_to_sec(hora):\r\n",
    "    seg = hora * 3600\r\n",
    "    return seg\r\n",
    "\r\n",
    "    "
   ],
   "outputs": [],
   "metadata": {}
  },
  {
   "cell_type": "code",
   "execution_count": 3,
   "source": [
    "print(convert_to_sec(5))"
   ],
   "outputs": [
    {
     "output_type": "stream",
     "name": "stdout",
     "text": [
      "18000\n"
     ]
    }
   ],
   "metadata": {}
  }
 ],
 "metadata": {
  "orig_nbformat": 4,
  "language_info": {
   "name": "python",
   "version": "3.8.11",
   "mimetype": "text/x-python",
   "codemirror_mode": {
    "name": "ipython",
    "version": 3
   },
   "pygments_lexer": "ipython3",
   "nbconvert_exporter": "python",
   "file_extension": ".py"
  },
  "kernelspec": {
   "name": "python3",
   "display_name": "Python 3.8.11 64-bit ('data_science': conda)"
  },
  "interpreter": {
   "hash": "e1669625acc3b5dce67bba4efcb8c935ce0850785629c0f390323b67dd6918f6"
  }
 },
 "nbformat": 4,
 "nbformat_minor": 2
}