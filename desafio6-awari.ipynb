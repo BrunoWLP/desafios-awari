{
 "cells": [
  {
   "cell_type": "code",
   "execution_count": 42,
   "source": [
    "# Crie uma função que receba duas listas e retorne uma lista que contenha apenas os elementos comuns entre as listas (sem repetição).\r\n",
    "# A função deve suportar lista de tamanhos diferentes."
   ],
   "outputs": [],
   "metadata": {}
  },
  {
   "cell_type": "code",
   "execution_count": 43,
   "source": [
    "a = [1, 1, 2, 3, 5, 8, 13, 21, 34, 55, 89]\r\n",
    "b = [1, 2, 3, 4, 5, 6, 7, 8, 9, 10, 11, 12, 13]"
   ],
   "outputs": [],
   "metadata": {}
  },
  {
   "cell_type": "code",
   "execution_count": 44,
   "source": [
    "def elem_comuns(lst_a, lst_b):\r\n",
    "    lista_temp = list()\r\n",
    "    lista_principal = list()\r\n",
    "    for n in lst_a:\r\n",
    "        if n not in lista_temp:\r\n",
    "            lista_temp.append(n)\r\n",
    "    for n in lst_b:\r\n",
    "        if n in lista_temp and n not in lista_principal:\r\n",
    "            lista_principal.append(n)\r\n",
    "    return lista_principal\r\n",
    "\r\n",
    "    "
   ],
   "outputs": [],
   "metadata": {}
  },
  {
   "cell_type": "code",
   "execution_count": 45,
   "source": [
    "elem_comuns(a, b)"
   ],
   "outputs": [
    {
     "output_type": "execute_result",
     "data": {
      "text/plain": [
       "[1, 2, 3, 5, 8, 13]"
      ]
     },
     "metadata": {},
     "execution_count": 45
    }
   ],
   "metadata": {}
  },
  {
   "cell_type": "code",
   "execution_count": 46,
   "source": [
    "a = [1, 22, 22, 33, 44, 55, 66]\r\n",
    "b = [1, 1, 2, 3, 4, 44, 66]\r\n",
    "elem_comuns(a, b)"
   ],
   "outputs": [
    {
     "output_type": "execute_result",
     "data": {
      "text/plain": [
       "[1, 44, 66]"
      ]
     },
     "metadata": {},
     "execution_count": 46
    }
   ],
   "metadata": {}
  }
 ],
 "metadata": {
  "orig_nbformat": 4,
  "language_info": {
   "name": "python",
   "version": "3.8.11",
   "mimetype": "text/x-python",
   "codemirror_mode": {
    "name": "ipython",
    "version": 3
   },
   "pygments_lexer": "ipython3",
   "nbconvert_exporter": "python",
   "file_extension": ".py"
  },
  "kernelspec": {
   "name": "python3",
   "display_name": "Python 3.8.11 64-bit ('data_science': conda)"
  },
  "interpreter": {
   "hash": "e1669625acc3b5dce67bba4efcb8c935ce0850785629c0f390323b67dd6918f6"
  }
 },
 "nbformat": 4,
 "nbformat_minor": 2
}