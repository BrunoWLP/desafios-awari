{
 "cells": [
  {
   "cell_type": "code",
   "execution_count": 1,
   "source": [
    "# Um professor de universidade tem uma turma com os seguintes números de telefones:\r\n",
    "telefones_alunos = ['(873) 810-8267', '(633) 244-7325', '(300) 303-5462', \r\n",
    "                    '(938) 300-8890', '(429) 264-7427', '(737) 805-2326', \r\n",
    "                    '(768) 956-8497', '(941) 225-3869', '(203) 606-9463', \r\n",
    "                    '(294) 430-7720', '(896) 781-5087', '(397) 845-8267', \r\n",
    "                    '(788) 717-6858', '(419) 734-4188', '(682) 595-3278', \r\n",
    "                    '(835) 955-1498', '(296) 415-9944', '(897) 932-2512', \r\n",
    "                    '(263) 415-3893', '(822) 640-8496', '(640) 427-2597', \r\n",
    "                    '(856) 338-7094', '(807) 554-4076', '(641) 367-5279', \r\n",
    "                    '(828) 866-0696', '(727) 376-5749', '(921) 948-2244', \r\n",
    "                    '(964) 710-9625', '(596) 685-1242', '(403) 343-7705', \r\n",
    "                    '(227) 389-3685', '(264) 372-7298', '(797) 649-3653', \r\n",
    "                    '(374) 361-3844', '(618) 490-4228', '(987) 803-5550', \r\n",
    "                    '(228) 976-9699', '(757) 450-9985', '(491) 666-5367',\r\n",
    "                    ]"
   ],
   "outputs": [],
   "metadata": {}
  },
  {
   "cell_type": "code",
   "execution_count": 2,
   "source": [
    "# Ele criou um grupo do WhatsApp. No entanto, somente os seguintes números entraram no grupo.\r\n",
    "entraram_no_grupo = ['(596) 685-1242', '(727) 376-5749', '(987) 803-5550', \r\n",
    "                     '(633) 244-7325', '(828) 866-0696', '(263) 415-3893', \r\n",
    "                     '(203) 606-9463', '(296) 415-9944', '(419) 734-4188', \r\n",
    "                     '(618) 490-4228', '(682) 595-3278', '(938) 300-8890', \r\n",
    "                     '(264) 372-7298', '(768) 956-8497', '(737) 805-2326', \r\n",
    "                     '(788) 717-6858', '(228) 976-9699', '(896) 781-5087',\r\n",
    "                     '(374) 361-3844', '(921) 948-2244', '(807) 554-4076', \r\n",
    "                     '(822) 640-8496', '(227) 389-3685', '(429) 264-7427', \r\n",
    "                     '(397) 845-8267']"
   ],
   "outputs": [],
   "metadata": {}
  },
  {
   "cell_type": "code",
   "execution_count": 3,
   "source": [
    "# Você seria capaz de criar uma lista dos alunos que ainda não entraram no grupo para que sejam contatados individualmente?\r\n",
    "\r\n",
    "numeros_pendentes = []\r\n",
    "for n in telefones_alunos:\r\n",
    "    if n not in entraram_no_grupo:\r\n",
    "        numeros_pendentes.append(n)\r\n",
    "\r\n",
    "numeros_pendentes"
   ],
   "outputs": [
    {
     "output_type": "execute_result",
     "data": {
      "text/plain": [
       "['(873) 810-8267',\n",
       " '(300) 303-5462',\n",
       " '(941) 225-3869',\n",
       " '(294) 430-7720',\n",
       " '(835) 955-1498',\n",
       " '(897) 932-2512',\n",
       " '(640) 427-2597',\n",
       " '(856) 338-7094',\n",
       " '(641) 367-5279',\n",
       " '(964) 710-9625',\n",
       " '(403) 343-7705',\n",
       " '(797) 649-3653',\n",
       " '(757) 450-9985',\n",
       " '(491) 666-5367']"
      ]
     },
     "metadata": {},
     "execution_count": 3
    }
   ],
   "metadata": {}
  }
 ],
 "metadata": {
  "orig_nbformat": 4,
  "language_info": {
   "name": "python",
   "version": "3.8.11",
   "mimetype": "text/x-python",
   "codemirror_mode": {
    "name": "ipython",
    "version": 3
   },
   "pygments_lexer": "ipython3",
   "nbconvert_exporter": "python",
   "file_extension": ".py"
  },
  "kernelspec": {
   "name": "python3",
   "display_name": "Python 3.8.11 64-bit ('data_science': conda)"
  },
  "interpreter": {
   "hash": "e1669625acc3b5dce67bba4efcb8c935ce0850785629c0f390323b67dd6918f6"
  }
 },
 "nbformat": 4,
 "nbformat_minor": 2
}