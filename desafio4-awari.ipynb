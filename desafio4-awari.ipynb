{
 "cells": [
  {
   "cell_type": "code",
   "execution_count": 1,
   "source": [
    "# Escreva uma função cuja entrada é uma string e a saída é outra string com as palavras em ordem inversa.\r\n",
    "\r\n",
    "# Exemplo:\r\n",
    "# inverte_texto(\"Python é legal\") ➞ \"legal é Python\""
   ],
   "outputs": [],
   "metadata": {}
  },
  {
   "cell_type": "code",
   "execution_count": 2,
   "source": [
    "# Como cada palavra é considerada uma LISTA de caracteres, usamos o método SPLIT para separar cada palavra em um item de lista\r\n",
    "\r\n",
    "def inverte_texto(txt):\r\n",
    "    lista_de_strings = txt.split()\r\n",
    "    for palavra in reversed(lista_de_strings):\r\n",
    "        print(palavra, end=' ')\r\n",
    "    \r\n",
    "\r\n"
   ],
   "outputs": [],
   "metadata": {}
  },
  {
   "cell_type": "code",
   "execution_count": 3,
   "source": [
    "inverte_texto(\"Quero café quentinho\")"
   ],
   "outputs": [
    {
     "output_type": "stream",
     "name": "stdout",
     "text": [
      "quentinho café Quero "
     ]
    }
   ],
   "metadata": {}
  }
 ],
 "metadata": {
  "orig_nbformat": 4,
  "language_info": {
   "name": "python",
   "version": "3.8.11",
   "mimetype": "text/x-python",
   "codemirror_mode": {
    "name": "ipython",
    "version": 3
   },
   "pygments_lexer": "ipython3",
   "nbconvert_exporter": "python",
   "file_extension": ".py"
  },
  "kernelspec": {
   "name": "python3",
   "display_name": "Python 3.8.11 64-bit ('data_science': conda)"
  },
  "interpreter": {
   "hash": "e1669625acc3b5dce67bba4efcb8c935ce0850785629c0f390323b67dd6918f6"
  }
 },
 "nbformat": 4,
 "nbformat_minor": 2
}