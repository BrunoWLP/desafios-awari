{
 "cells": [
  {
   "cell_type": "markdown",
   "metadata": {},
   "source": [
    "Escreva uma função cuja entrada é uma string e a saída é outra string com as palavras em ordem inversa.\n",
    "\n",
    "Exemplo:\n",
    "inverte_texto(\"Python é legal\") ➞ \"legal é Python\""
   ]
  },
  {
   "cell_type": "code",
   "execution_count": 2,
   "metadata": {},
   "outputs": [],
   "source": [
    "# Como cada palavra é considerada uma LISTA de caracteres, usamos o método SPLIT para separar cada palavra em um item de lista\n",
    "\n",
    "def inverte_texto(txt):\n",
    "    lista_de_strings = txt.split()\n",
    "    for palavra in reversed(lista_de_strings):\n",
    "        print(palavra, end=' ')\n",
    "    \n",
    "\n"
   ]
  },
  {
   "cell_type": "code",
   "execution_count": 3,
   "metadata": {},
   "outputs": [
    {
     "name": "stdout",
     "output_type": "stream",
     "text": [
      "quentinho café Quero "
     ]
    }
   ],
   "source": [
    "inverte_texto(\"Quero café quentinho\")"
   ]
  }
 ],
 "metadata": {
  "interpreter": {
   "hash": "e1669625acc3b5dce67bba4efcb8c935ce0850785629c0f390323b67dd6918f6"
  },
  "kernelspec": {
   "display_name": "Python 3.8.11 64-bit ('data_science': conda)",
   "name": "python3"
  },
  "language_info": {
   "codemirror_mode": {
    "name": "ipython",
    "version": 3
   },
   "file_extension": ".py",
   "mimetype": "text/x-python",
   "name": "python",
   "nbconvert_exporter": "python",
   "pygments_lexer": "ipython3",
   "version": "3.8.11"
  },
  "orig_nbformat": 4
 },
 "nbformat": 4,
 "nbformat_minor": 2
}
